{
 "cells": [
  {
   "cell_type": "markdown",
   "metadata": {},
   "source": [
    "GLiNER is a Named Entity Recognition (NER) model capable of identifying any entity type using a bidirectional transformer encoder (BERT-like). It provides a practical alternative to traditional NER models, which are limited to predefined entities, and Large Language Models (LLMs) that, despite their flexibility, are costly and large for resource-constrained scenarios.\n",
    "\n",
    "https://github.com/urchade/GLiNER <br>\n",
    "https://huggingface.co/urchade/gliner_medium-v2.1"
   ]
  },
  {
   "cell_type": "code",
   "execution_count": null,
   "metadata": {},
   "outputs": [],
   "source": [
    "import pandas as pd\n",
    "from gliner import GLiNER"
   ]
  },
  {
   "cell_type": "code",
   "execution_count": 7,
   "metadata": {},
   "outputs": [
    {
     "data": {
      "application/vnd.jupyter.widget-view+json": {
       "model_id": "acddefe4ad4f434db4c7364fcbdd4e41",
       "version_major": 2,
       "version_minor": 0
      },
      "text/plain": [
       "Fetching 4 files:   0%|          | 0/4 [00:00<?, ?it/s]"
      ]
     },
     "metadata": {},
     "output_type": "display_data"
    },
    {
     "data": {
      "application/vnd.jupyter.widget-view+json": {
       "model_id": "fc7482069e5b410f8904a30e0764dc6f",
       "version_major": 2,
       "version_minor": 0
      },
      "text/plain": [
       "README.md:   0%|          | 0.00/4.80k [00:00<?, ?B/s]"
      ]
     },
     "metadata": {},
     "output_type": "display_data"
    },
    {
     "name": "stderr",
     "output_type": "stream",
     "text": [
      "c:\\Users\\racha\\Desktop\\PROJECTS\\PKO\\analysis-advanced-chunking-techniques\\.venv\\Lib\\site-packages\\huggingface_hub\\file_download.py:140: UserWarning: `huggingface_hub` cache-system uses symlinks by default to efficiently store duplicated files but your machine does not support them in C:\\Users\\racha\\.cache\\huggingface\\hub\\models--urchade--gliner_medium. Caching files will still work but in a degraded version that might require more space on your disk. This warning can be disabled by setting the `HF_HUB_DISABLE_SYMLINKS_WARNING` environment variable. For more details, see https://huggingface.co/docs/huggingface_hub/how-to-cache#limitations.\n",
      "To support symlinks on Windows, you either need to activate Developer Mode or to run Python as an administrator. In order to activate developer mode, see this article: https://docs.microsoft.com/en-us/windows/apps/get-started/enable-your-device-for-development\n",
      "  warnings.warn(message)\n"
     ]
    },
    {
     "data": {
      "application/vnd.jupyter.widget-view+json": {
       "model_id": "e7dc9218cdb5427d869488f8e4ece9d6",
       "version_major": 2,
       "version_minor": 0
      },
      "text/plain": [
       ".gitattributes:   0%|          | 0.00/1.52k [00:00<?, ?B/s]"
      ]
     },
     "metadata": {},
     "output_type": "display_data"
    },
    {
     "data": {
      "application/vnd.jupyter.widget-view+json": {
       "model_id": "7973320dca5543c7b4a65b1ac6068733",
       "version_major": 2,
       "version_minor": 0
      },
      "text/plain": [
       "gliner_config.json:   0%|          | 0.00/476 [00:00<?, ?B/s]"
      ]
     },
     "metadata": {},
     "output_type": "display_data"
    },
    {
     "data": {
      "application/vnd.jupyter.widget-view+json": {
       "model_id": "b4a161b453d643da99135e2faf4a22a9",
       "version_major": 2,
       "version_minor": 0
      },
      "text/plain": [
       "pytorch_model.bin:   0%|          | 0.00/781M [00:00<?, ?B/s]"
      ]
     },
     "metadata": {},
     "output_type": "display_data"
    },
    {
     "name": "stderr",
     "output_type": "stream",
     "text": [
      "c:\\Users\\racha\\Desktop\\PROJECTS\\PKO\\analysis-advanced-chunking-techniques\\.venv\\Lib\\site-packages\\transformers\\convert_slow_tokenizer.py:561: UserWarning: The sentencepiece tokenizer that you are converting to a fast tokenizer uses the byte fallback option which is not implemented in the fast tokenizers. In practice this means that the fast version of the tokenizer can produce unknown tokens whereas the sentencepiece version would have converted these unknown tokens into a sequence of byte tokens matching the original piece of text.\n",
      "  warnings.warn(\n"
     ]
    },
    {
     "name": "stdout",
     "output_type": "stream",
     "text": [
      "ok\n"
     ]
    }
   ],
   "source": [
    "model = GLiNER.from_pretrained(\"urchade/gliner_medium\")\n",
    "model.eval()\n",
    "print(\"ok\")"
   ]
  },
  {
   "cell_type": "markdown",
   "metadata": {},
   "source": [
    "Threshold w GLiNER (ang. confidence threshold) to minimalna wartość pewności modelu, powyżej której prognoza (dana etykieta) zostanie uznana za prawidłową i zwrócona w wynikach."
   ]
  },
  {
   "cell_type": "code",
   "execution_count": 9,
   "metadata": {},
   "outputs": [
    {
     "name": "stdout",
     "output_type": "stream",
     "text": [
      "Posiadacz rachunku => konto osobiste\n",
      "umowy rachunku => umowa kredytowa\n",
      "środków pieniężnych => odsetki\n"
     ]
    }
   ],
   "source": [
    "text = \"\"\"\n",
    "1. Użyte w Regulaminie określenia oznaczają:\n",
    "1) dopuszczalne saldo debetowe – ujemne saldo rachunku oszczędnościowo-rozliczeniowego w wysokości nieprzekraczającej miesięcznego limitu ustalanego\n",
    "przez PKO Bank Polski SA, z którego Posiadacz rachunku może korzystać na podstawie umowy rachunku,\n",
    "2) data waluty – dzień, od którego lub do którego, naliczane są odsetki od środków pieniężnych, którymi został obciążony lub uznany rachunek,\n",
    "3) dyspozycja – wszelkie oświadczenia woli lub wiedzy, w tym dotyczące operacji, składane przez Klienta,\n",
    "4) dzień roboczy – dzień przypadający od poniedziałku do piątku, który nie jest dniem ustawowo wolnym od pracy,\n",
    "5) kapitalizacja – dopisanie do salda rachunku naliczonych za dany okres odsetek od środków pieniężnych zgromadzonych na tym rachunku\n",
    "\"\"\"\n",
    "\n",
    "labels = [\n",
    "    \"kredyt hipoteczny\", \"pożyczka gotówkowa\", \"konto osobiste\", \"konto firmowe\", \"konto oszczędnościowe\", \"lokata terminowa\",\n",
    "    \"ubezpieczenie\", \"kredyt firmowy\", \"kredyt konsolidacyjny\", \"karta kredytowa\", \"karta debetowa\", \"bankomat\",\n",
    "    \"oddział bankowy\", \"opłaty\", \"prowizja\", \"transakcje\", \"limit kredytowy\", \"umowa kredytowa\", \"oprocentowanie\",\n",
    "    \"kapitał\", \"odsetki\", \"raty\", \"czyszczenie historii kredytowej\", \"ubezpieczenie nieruchomości\", \"ubezpieczenie na życie\",\n",
    "\n",
    "]\n",
    "\n",
    "entities = model.predict_entities(text, labels, threshold=0.4, multi_label=True)\n",
    "\n",
    "for entity in entities:\n",
    "    print(entity[\"text\"], \"=>\", entity[\"label\"])"
   ]
  },
  {
   "cell_type": "code",
   "execution_count": 27,
   "metadata": {},
   "outputs": [],
   "source": [
    "chunks = [\n",
    "\"\"\"\n",
    "1. Użyte w Regulaminie określenia oznaczają:\n",
    "1) dopuszczalne saldo debetowe – ujemne saldo rachunku oszczędnościowo-rozliczeniowego w wysokości nieprzekraczającej miesięcznego limitu ustalanego\n",
    "przez PKO Bank Polski SA, z którego Posiadacz rachunku może korzystać na podstawie umowy rachunku,\n",
    "2) data waluty – dzień, od którego lub do którego, naliczane są odsetki od środków pieniężnych, którymi został obciążony lub uznany rachunek,\n",
    "3) dyspozycja – wszelkie oświadczenia woli lub wiedzy, w tym dotyczące operacji, składane przez Klienta,\n",
    "4) dzień roboczy – dzień przypadający od poniedziałku do piątku, który nie jest dniem ustawowo wolnym od pracy,\n",
    "5) kapitalizacja – dopisanie do salda rachunku naliczonych za dany okres odsetek od środków pieniężnych zgromadzonych na tym rachunku\n",
    "\"\"\",\n",
    "\"\"\"\n",
    "1. PKO Bank Polski SA może prowadzić na rzecz Klientów rachunki bankowe, o których mowa w § 1. Rachunki te nie są przeznaczone do przeprowadzania rozliczeń\n",
    "pieniężnych związanych z prowadzoną przez Klienta działalnością gospodarczą lub zarobkową.\n",
    "2. PKO Bank Polski SA może otwierać kolejne rachunki na podstawie umowy o prowadzenie rachunków bankowych.\n",
    "3. Zawarcie umowy rachunku może nastąpić:\n",
    "1) za pośrednictwem elektronicznych kanałów dostępu, o ile PKO Bank Polski SA dla danego kanału udostępnia odpowiednią funkcjonalność,\n",
    "2) w placówce,\n",
    "3) w inny uzgodniony sposób.\n",
    "4. Rachunek może być otwarty:\n",
    "1) jako rachunek indywidualny - dla rezydenta albo nierezydenta,\n",
    "2) jako rachunek wspólny – dla dwóch osób o tym samym statusie dewizowym, posiadających pełną zdolność do czynności prawnych, które posiadają ten\n",
    "sam kraj rezydencji podatkowej i obie legitymują się ważnymi certyfikatami rezydencji podatkowej, bądź obie nie posiadają ważnych certyfikatów rezydencji\n",
    "podatkowej\n",
    "\"\"\",\n",
    "\"\"\"\n",
    "1. Posiadacz rachunku, który nie ukończył 13 lat, albo osoba ubezwłasnowolniona całkowicie nie może samodzielnie dysponować środkami pieniężnymi\n",
    "zgromadzonymi na rachunku, ani dokonywać samodzielnie żadnych czynności związanych z posiadaniem rachunku.\n",
    "2. W imieniu Posiadacza rachunku, o którym mowa w ust. 1, do dysponowania środkami pieniężnymi zgromadzonymi na rachunku w granicach zwykłego zarządu,\n",
    "uprawniony jest jego przedstawiciel ustawowy, który zawarł umowę rachunku w imieniu Posiadacza rachunku. Dysponowanie środkami pieniężnymi w zakresie\n",
    "przekraczającym zwykły zarząd, wymaga zezwolenia sądu opiekuńczego\n",
    "\"\"\",\n",
    "\"\"\"\n",
    "1. Za usługi świadczone przez PKO Bank Polski SA, w tym za czynności związane z prowadzeniem rachunku, wysyłaniem powiadomień, a także za inne czynności,\n",
    "PKO Bank Polski SA pobiera prowizje i opłaty bankowe, zgodnie z Taryfą.\n",
    "2. PKO Bank Polski SA należne prowizje i opłaty bankowe, o których mowa w ust. 1, pobierać będzie, z uwzględnieniem ust. 3-4, w ciężar rachunku, za wyjątkiem\n",
    "rachunku lokaty.\n",
    "3. W przypadku rachunku lokaty należne prowizje i opłaty bankowe PKO Bank Polski SA pobierać będzie z rachunku, o którym mowa w § 25 ust. 2 albo w formie\n",
    "gotówkowej.\n",
    "4. W przypadku braku wolnych środków na rachunku, pobranie:\n",
    "1) prowizji i opłat, lub\n",
    "2) zaliczek na podatek dochodowy oraz składek na ubezpieczenie zdrowotne od realizowanych przez PKO Bank Polski SA rent i emerytur z zagranicy\n",
    "może spowodować powstanie zadłużenia przeterminowanego.\n",
    "\"\"\",\n",
    "\"\"\"\n",
    "1. Środki pieniężne zgromadzone na rachunku mogą być oprocentowane zgodnie z zasadami określonymi w Regulaminie lub w umowie rachunku.\n",
    "2. W przypadku, gdy środki pieniężne zgromadzone na rachunku są oprocentowane według zmiennej stopy procentowej, w okresie obowiązywania umowy\n",
    "rachunku, PKO Bank Polski SA jest uprawniony do zmiany wysokości oprocentowania środków pieniężnych zgromadzonych na tym rachunku na zasadach\n",
    "określonych w ust. 3.\n",
    "\"\"\",\n",
    "\"\"\"Oddział naszego banku zlokalizowana przy ulicy Warszawskiej 12 oferuje pełen zakres usług finansowych dla klientów indywidualnych i firmowych.\n",
    "Klienci mogą tam skorzystać z doradztwa kredytowego oraz założyć rachunek oszczędnościowy.\n",
    "\"\"\",\n",
    "\"\"\"\n",
    "Oddział bankowy zyskał na znaczeniu!\n",
    "\"\"\"\n",
    "]"
   ]
  },
  {
   "cell_type": "code",
   "execution_count": 28,
   "metadata": {},
   "outputs": [],
   "source": [
    "entities = model.batch_predict_entities(chunks, labels, multi_label=True)"
   ]
  },
  {
   "cell_type": "code",
   "execution_count": 29,
   "metadata": {},
   "outputs": [
    {
     "data": {
      "text/plain": [
       "[[],\n",
       " [],\n",
       " [{'start': 43,\n",
       "   'end': 49,\n",
       "   'text': '13 lat',\n",
       "   'label': 'limit kredytowy',\n",
       "   'score': 0.7323434948921204},\n",
       "  {'start': 277,\n",
       "   'end': 285,\n",
       "   'text': 'rachunku',\n",
       "   'label': 'konto osobiste',\n",
       "   'score': 0.5565055012702942},\n",
       "  {'start': 499,\n",
       "   'end': 507,\n",
       "   'text': 'rachunku',\n",
       "   'label': 'konto osobiste',\n",
       "   'score': 0.5390024781227112}],\n",
       " [{'start': 182,\n",
       "   'end': 190,\n",
       "   'text': 'prowizje',\n",
       "   'label': 'prowizja',\n",
       "   'score': 0.7285996079444885},\n",
       "  {'start': 182,\n",
       "   'end': 190,\n",
       "   'text': 'prowizje',\n",
       "   'label': 'opłaty',\n",
       "   'score': 0.6407319903373718},\n",
       "  {'start': 257,\n",
       "   'end': 265,\n",
       "   'text': 'prowizje',\n",
       "   'label': 'prowizja',\n",
       "   'score': 0.6908012628555298},\n",
       "  {'start': 257,\n",
       "   'end': 265,\n",
       "   'text': 'prowizje',\n",
       "   'label': 'opłaty',\n",
       "   'score': 0.644463300704956},\n",
       "  {'start': 441,\n",
       "   'end': 449,\n",
       "   'text': 'prowizje',\n",
       "   'label': 'prowizja',\n",
       "   'score': 0.6739863753318787},\n",
       "  {'start': 441,\n",
       "   'end': 449,\n",
       "   'text': 'prowizje',\n",
       "   'label': 'opłaty',\n",
       "   'score': 0.6409915089607239},\n",
       "  {'start': 631,\n",
       "   'end': 639,\n",
       "   'text': 'prowizji',\n",
       "   'label': 'prowizja',\n",
       "   'score': 0.6617795825004578},\n",
       "  {'start': 631,\n",
       "   'end': 639,\n",
       "   'text': 'prowizji',\n",
       "   'label': 'opłaty',\n",
       "   'score': 0.6465950012207031}],\n",
       " [{'start': 119,\n",
       "   'end': 134,\n",
       "   'text': 'umowie rachunku',\n",
       "   'label': 'umowa kredytowa',\n",
       "   'score': 0.6039019227027893},\n",
       "  {'start': 188,\n",
       "   'end': 196,\n",
       "   'text': 'rachunku',\n",
       "   'label': 'konto osobiste',\n",
       "   'score': 0.5591476559638977},\n",
       "  {'start': 273,\n",
       "   'end': 287,\n",
       "   'text': 'umowy\\nrachunku',\n",
       "   'label': 'umowa kredytowa',\n",
       "   'score': 0.5926702618598938},\n",
       "  {'start': 400,\n",
       "   'end': 408,\n",
       "   'text': 'rachunku',\n",
       "   'label': 'konto osobiste',\n",
       "   'score': 0.5331123471260071}],\n",
       " [],\n",
       " [{'start': 1,\n",
       "   'end': 16,\n",
       "   'text': 'Oddział bankowy',\n",
       "   'label': 'oddział bankowy',\n",
       "   'score': 0.5630679726600647}]]"
      ]
     },
     "execution_count": 29,
     "metadata": {},
     "output_type": "execute_result"
    }
   ],
   "source": [
    "entities"
   ]
  },
  {
   "cell_type": "code",
   "execution_count": 30,
   "metadata": {},
   "outputs": [
    {
     "data": {
      "text/html": [
       "<div>\n",
       "<style scoped>\n",
       "    .dataframe tbody tr th:only-of-type {\n",
       "        vertical-align: middle;\n",
       "    }\n",
       "\n",
       "    .dataframe tbody tr th {\n",
       "        vertical-align: top;\n",
       "    }\n",
       "\n",
       "    .dataframe thead th {\n",
       "        text-align: right;\n",
       "    }\n",
       "</style>\n",
       "<table border=\"1\" class=\"dataframe\">\n",
       "  <thead>\n",
       "    <tr style=\"text-align: right;\">\n",
       "      <th></th>\n",
       "      <th>Chunk</th>\n",
       "      <th>Matched Labels</th>\n",
       "    </tr>\n",
       "  </thead>\n",
       "  <tbody>\n",
       "    <tr>\n",
       "      <th>0</th>\n",
       "      <td>\\n1. Użyte w Regulaminie określenia oznaczają:...</td>\n",
       "      <td>[]</td>\n",
       "    </tr>\n",
       "    <tr>\n",
       "      <th>1</th>\n",
       "      <td>\\n1. PKO Bank Polski SA może prowadzić na rzec...</td>\n",
       "      <td>[]</td>\n",
       "    </tr>\n",
       "    <tr>\n",
       "      <th>2</th>\n",
       "      <td>\\n1. Posiadacz rachunku, który nie ukończył 13...</td>\n",
       "      <td>[konto osobiste, limit kredytowy]</td>\n",
       "    </tr>\n",
       "    <tr>\n",
       "      <th>3</th>\n",
       "      <td>\\n1. Za usługi świadczone przez PKO Bank Polsk...</td>\n",
       "      <td>[opłaty, prowizja]</td>\n",
       "    </tr>\n",
       "    <tr>\n",
       "      <th>4</th>\n",
       "      <td>\\n1. Środki pieniężne zgromadzone na rachunku ...</td>\n",
       "      <td>[umowa kredytowa, konto osobiste]</td>\n",
       "    </tr>\n",
       "    <tr>\n",
       "      <th>5</th>\n",
       "      <td>Oddział naszego banku zlokalizowana przy ulicy...</td>\n",
       "      <td>[]</td>\n",
       "    </tr>\n",
       "    <tr>\n",
       "      <th>6</th>\n",
       "      <td>\\nOddział bankowy zyskał na znaczeniu!\\n</td>\n",
       "      <td>[oddział bankowy]</td>\n",
       "    </tr>\n",
       "  </tbody>\n",
       "</table>\n",
       "</div>"
      ],
      "text/plain": [
       "                                               Chunk  \\\n",
       "0  \\n1. Użyte w Regulaminie określenia oznaczają:...   \n",
       "1  \\n1. PKO Bank Polski SA może prowadzić na rzec...   \n",
       "2  \\n1. Posiadacz rachunku, który nie ukończył 13...   \n",
       "3  \\n1. Za usługi świadczone przez PKO Bank Polsk...   \n",
       "4  \\n1. Środki pieniężne zgromadzone na rachunku ...   \n",
       "5  Oddział naszego banku zlokalizowana przy ulicy...   \n",
       "6           \\nOddział bankowy zyskał na znaczeniu!\\n   \n",
       "\n",
       "                      Matched Labels  \n",
       "0                                 []  \n",
       "1                                 []  \n",
       "2  [konto osobiste, limit kredytowy]  \n",
       "3                 [opłaty, prowizja]  \n",
       "4  [umowa kredytowa, konto osobiste]  \n",
       "5                                 []  \n",
       "6                  [oddział bankowy]  "
      ]
     },
     "execution_count": 30,
     "metadata": {},
     "output_type": "execute_result"
    }
   ],
   "source": [
    "results = []\n",
    "for chunk, entity_list in zip(chunks, entities):\n",
    "    matched_labels = list(set(entity['label'] for entity in entity_list)) \n",
    "    results.append({\"Chunk\": chunk, \"Matched Labels\": matched_labels})\n",
    "\n",
    "# Konwersja do DataFrame\n",
    "results_df = pd.DataFrame(results)\n",
    "\n",
    "# Wyświetlenie tabeli\n",
    "results_df"
   ]
  }
 ],
 "metadata": {
  "kernelspec": {
   "display_name": ".venv",
   "language": "python",
   "name": "python3"
  },
  "language_info": {
   "codemirror_mode": {
    "name": "ipython",
    "version": 3
   },
   "file_extension": ".py",
   "mimetype": "text/x-python",
   "name": "python",
   "nbconvert_exporter": "python",
   "pygments_lexer": "ipython3",
   "version": "3.12.0"
  }
 },
 "nbformat": 4,
 "nbformat_minor": 2
}
