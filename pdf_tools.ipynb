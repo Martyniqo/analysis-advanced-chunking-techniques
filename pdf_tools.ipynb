{
 "cells": [
  {
   "cell_type": "code",
   "execution_count": 1,
   "metadata": {},
   "outputs": [],
   "source": [
    "from pathlib import Path\n",
    "from PyPDF2 import PdfReader, PdfWriter\n",
    "from pydantic import BaseModel, FilePath, PositiveInt\n",
    "\n",
    "class PDFCutConfig(BaseModel):\n",
    "    input_pdf_path: FilePath\n",
    "    output_pdf_path: str\n",
    "    num_pages: PositiveInt\n",
    "\n",
    "def cut_pdf_after_pages(config: PDFCutConfig):\n",
    "    \"\"\"\n",
    "    Cuts the input PDF file after the specified number of pages and saves a new PDF.\n",
    "\n",
    "    :param config: Configuration object containing input path, output path, and number of pages.\n",
    "    \"\"\"\n",
    "    # Read the input PDF\n",
    "    reader = PdfReader(config.input_pdf_path)\n",
    "    writer = PdfWriter()\n",
    "\n",
    "    # Get the specified number of pages or as many as the PDF has\n",
    "    num_pages_to_extract = min(config.num_pages, len(reader.pages))\n",
    "\n",
    "    for i in range(num_pages_to_extract):\n",
    "        writer.add_page(reader.pages[i])\n",
    "\n",
    "    # Write the output PDF\n",
    "    with open(config.output_pdf_path, 'wb') as output_pdf:\n",
    "        writer.write(output_pdf)"
   ]
  },
  {
   "cell_type": "code",
   "execution_count": 4,
   "metadata": {},
   "outputs": [],
   "source": [
    "path = r'data\\input\\Przewodnik_IKO_2023_10.pdf'"
   ]
  },
  {
   "cell_type": "code",
   "execution_count": 5,
   "metadata": {},
   "outputs": [
    {
     "name": "stdout",
     "output_type": "stream",
     "text": [
      "PDF has been saved to data\\input\\Przewodnik_IKO_2023_10.pdf.\n"
     ]
    }
   ],
   "source": [
    "# Example usage\n",
    "# Provide paths as strings\n",
    "config = PDFCutConfig(\n",
    "    input_pdf_path=path,\n",
    "    output_pdf_path=path,\n",
    "    num_pages=8\n",
    ")\n",
    "\n",
    "cut_pdf_after_pages(config)\n",
    "print(f\"PDF has been saved to {config.output_pdf_path}.\")"
   ]
  },
  {
   "cell_type": "code",
   "execution_count": null,
   "metadata": {},
   "outputs": [],
   "source": []
  }
 ],
 "metadata": {
  "kernelspec": {
   "display_name": ".venv",
   "language": "python",
   "name": "python3"
  },
  "language_info": {
   "codemirror_mode": {
    "name": "ipython",
    "version": 3
   },
   "file_extension": ".py",
   "mimetype": "text/x-python",
   "name": "python",
   "nbconvert_exporter": "python",
   "pygments_lexer": "ipython3",
   "version": "3.12.0"
  }
 },
 "nbformat": 4,
 "nbformat_minor": 2
}
